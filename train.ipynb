{
 "cells": [
  {
   "cell_type": "markdown",
   "metadata": {},
   "source": [
    "## captcha-tensorflow\n",
    "\n",
    "Copyright &copy; 2017 Jackon Yang\n",
    "\n",
    "<https://github.com/JackonYang/captcha-tensorflow/blob/master/captcha-solver-tf2-4digits-AlexNet-98.8.ipynb>"
   ]
  },
  {
   "cell_type": "code",
   "execution_count": null,
   "metadata": {},
   "outputs": [],
   "source": [
    "from glob import glob\n",
    "from os import path\n",
    "from datetime import datetime\n",
    "\n",
    "import matplotlib.pyplot as plt\n",
    "import numpy as np  # linear algebra\n",
    "import pandas as pd  # data processing, CSV file I/O (e.g. pd.read_csv)\n",
    "import tensorflow as tf\n",
    "from keras import layers, models\n",
    "from keras.utils.np_utils import to_categorical"
   ]
  },
  {
   "cell_type": "code",
   "execution_count": null,
   "metadata": {},
   "outputs": [],
   "source": [
    "DATA_DIR = \"data\"\n",
    "LOG_DIR = \"logs/fit/\" + datetime.now().strftime(\"%Y%m%d-%H%M%S\")\n",
    "H, W, C = 35, 90, 3  # height, width, 3 (RGB channels)\n",
    "N_LABELS = 128\n",
    "D = 4  # num_of_chars_per_image\n",
    "EPOCHS = 4"
   ]
  },
  {
   "cell_type": "code",
   "execution_count": null,
   "metadata": {},
   "outputs": [],
   "source": [
    "# create a pandas data frame of images and labels\n",
    "files = glob(path.join(DATA_DIR, \"data-*.pkl\"))\n",
    "\n",
    "\n",
    "p = np.random.permutation(len(files))\n",
    "train_up_to = int(len(files) * 0.9375)\n",
    "train_idx = p[:train_up_to]\n",
    "test_idx = p[train_up_to:]\n",
    "\n",
    "# split train_idx further into training and validation set\n",
    "train_up_to = int(train_up_to * 0.9375)\n",
    "train_idx, valid_idx = train_idx[:train_up_to], train_idx[train_up_to:]"
   ]
  },
  {
   "cell_type": "code",
   "execution_count": null,
   "metadata": {},
   "outputs": [],
   "source": [
    "def get_data_generator(files, indices, repeat=1):\n",
    "    for _ in range(repeat):\n",
    "        for i in indices:\n",
    "            df = pd.read_pickle(files[i])\n",
    "            images = np.array([a for a in df[\"image\"]]) / 255.0\n",
    "            labels = np.array(\n",
    "                [\n",
    "                    [np.array(to_categorical(ord(i), N_LABELS)) for i in lable]\n",
    "                    for lable in df[\"label\"]\n",
    "                ]\n",
    "            )\n",
    "            # print(images.shape, labels.shape)\n",
    "            yield images, labels"
   ]
  },
  {
   "cell_type": "code",
   "execution_count": null,
   "metadata": {},
   "outputs": [],
   "source": [
    "input_layer = tf.keras.Input(shape=(H, W, C))\n",
    "x = layers.Conv2D(32, 3, activation=\"relu\")(input_layer)\n",
    "x = layers.MaxPooling2D((2, 2))(x)\n",
    "x = layers.Conv2D(64, 3, activation=\"relu\")(x)\n",
    "x = layers.MaxPooling2D((2, 2))(x)\n",
    "x = layers.Conv2D(64, 3, activation=\"relu\")(x)\n",
    "x = layers.MaxPooling2D((2, 2))(x)\n",
    "\n",
    "x = layers.Flatten()(x)\n",
    "x = layers.Dense(1024, activation=\"relu\")(x)\n",
    "# x = layers.Dropout(0.5)(x)\n",
    "\n",
    "x = layers.Dense(D * N_LABELS, activation=\"softmax\")(x)\n",
    "x = layers.Reshape((D, N_LABELS))(x)\n",
    "\n",
    "model = models.Model(inputs=input_layer, outputs=x)\n",
    "\n",
    "model.compile(\n",
    "    optimizer=\"adam\", loss=\"categorical_crossentropy\", metrics=[\"accuracy\"]\n",
    ")\n",
    "model.summary()"
   ]
  },
  {
   "cell_type": "code",
   "execution_count": null,
   "metadata": {},
   "outputs": [],
   "source": [
    "history = model.fit(\n",
    "    get_data_generator(files, train_idx, EPOCHS),\n",
    "    steps_per_epoch=len(train_idx),\n",
    "    epochs=EPOCHS,\n",
    "    validation_data=get_data_generator(files, valid_idx, EPOCHS),\n",
    "    validation_steps=len(valid_idx),\n",
    "    callbacks=[\n",
    "        tf.keras.callbacks.TensorBoard(log_dir=LOG_DIR, histogram_freq=1)\n",
    "    ],\n",
    ")"
   ]
  },
  {
   "cell_type": "code",
   "execution_count": null,
   "metadata": {},
   "outputs": [],
   "source": [
    "def plot_train_history(history):\n",
    "    fig, axes = plt.subplots(1, 2, figsize=(20, 5))\n",
    "\n",
    "    axes[0].plot(history.history[\"accuracy\"], label=\"Train accuracy\")\n",
    "    axes[0].plot(history.history[\"val_accuracy\"], label=\"Val accuracy\")\n",
    "    axes[0].set_xlabel(\"Epochs\")\n",
    "    axes[0].legend()\n",
    "\n",
    "    axes[1].plot(history.history[\"loss\"], label=\"Training loss\")\n",
    "    axes[1].plot(history.history[\"val_loss\"], label=\"Validation loss\")\n",
    "    axes[1].set_xlabel(\"Epochs\")\n",
    "    axes[1].legend()\n",
    "\n",
    "\n",
    "plot_train_history(history)\n",
    "plt.show()"
   ]
  },
  {
   "cell_type": "code",
   "execution_count": null,
   "metadata": {},
   "outputs": [],
   "source": [
    "# evaluate loss and accuracy in test dataset\n",
    "test_gen = get_data_generator(files, test_idx)\n",
    "print(\n",
    "    dict(\n",
    "        zip(\n",
    "            model.metrics_names,\n",
    "            model.evaluate(test_gen, steps=len(test_idx)),\n",
    "        )\n",
    "    )\n",
    ")"
   ]
  },
  {
   "cell_type": "code",
   "execution_count": null,
   "metadata": {},
   "outputs": [],
   "source": [
    "model.save(\"saved_model/luogu_captcha\")"
   ]
  }
 ],
 "metadata": {
  "language_info": {
   "name": "python"
  },
  "orig_nbformat": 4
 },
 "nbformat": 4,
 "nbformat_minor": 2
}
